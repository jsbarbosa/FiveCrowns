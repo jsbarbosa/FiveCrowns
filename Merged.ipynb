{
 "cells": [
  {
   "cell_type": "code",
   "execution_count": 1,
   "id": "consistent-ivory",
   "metadata": {},
   "outputs": [],
   "source": [
    "import sys\n",
    "from glob import glob\n",
    "\n",
    "import svg_stack as ss"
   ]
  },
  {
   "cell_type": "code",
   "execution_count": 2,
   "id": "light-miami",
   "metadata": {},
   "outputs": [],
   "source": [
    "WIDTH = 350\n",
    "HEIGHT = 500\n",
    "\n",
    "TOKEN_WIDTH = 27\n",
    "TOKEN_HEIGHT = 38"
   ]
  },
  {
   "cell_type": "code",
   "execution_count": 3,
   "id": "false-quality",
   "metadata": {},
   "outputs": [
    {
     "data": {
      "text/plain": [
       "(12.962962962962964, 13.157894736842104)"
      ]
     },
     "execution_count": 3,
     "metadata": {},
     "output_type": "execute_result"
    }
   ],
   "source": [
    "WIDTH / TOKEN_WIDTH, HEIGHT / TOKEN_HEIGHT"
   ]
  },
  {
   "cell_type": "code",
   "execution_count": 4,
   "id": "imported-airport",
   "metadata": {},
   "outputs": [
    {
     "data": {
      "text/plain": [
       "(9.210526315789474, 18.51851851851852)"
      ]
     },
     "execution_count": 4,
     "metadata": {},
     "output_type": "execute_result"
    }
   ],
   "source": [
    "WIDTH / TOKEN_HEIGHT, HEIGHT / TOKEN_WIDTH"
   ]
  },
  {
   "cell_type": "code",
   "execution_count": 5,
   "id": "italic-upset",
   "metadata": {},
   "outputs": [],
   "source": [
    "cards = sorted(\n",
    "    glob(\n",
    "        'dst/individual/*.svg'\n",
    "    )\n",
    ") * 2"
   ]
  },
  {
   "cell_type": "code",
   "execution_count": 6,
   "id": "dietary-progress",
   "metadata": {},
   "outputs": [
    {
     "data": {
      "text/plain": [
       "116"
      ]
     },
     "execution_count": 6,
     "metadata": {},
     "output_type": "execute_result"
    }
   ],
   "source": [
    "len(cards)"
   ]
  },
  {
   "cell_type": "code",
   "execution_count": 7,
   "id": "numerous-penguin",
   "metadata": {},
   "outputs": [],
   "source": [
    "doc = ss.Document()\n",
    "\n",
    "main_layout = ss.VBoxLayout()\n",
    "\n",
    "for i in range(9):\n",
    "    layout = ss.HBoxLayout()\n",
    "    [\n",
    "        layout.addSVG(\n",
    "            card,\n",
    "            alignment=ss.AlignTop|ss.AlignLeft\n",
    "        )\n",
    "        for card in cards[i * 18 : (i + 1) * 18]\n",
    "    ]\n",
    "    \n",
    "    main_layout.addLayout(layout)\n",
    "\n",
    "doc.setLayout(main_layout)\n",
    "\n",
    "doc.save('dst/set.svg')"
   ]
  },
  {
   "cell_type": "code",
   "execution_count": null,
   "id": "residential-actor",
   "metadata": {},
   "outputs": [],
   "source": []
  }
 ],
 "metadata": {
  "kernelspec": {
   "display_name": "Python 3",
   "language": "python",
   "name": "python3"
  },
  "language_info": {
   "codemirror_mode": {
    "name": "ipython",
    "version": 3
   },
   "file_extension": ".py",
   "mimetype": "text/x-python",
   "name": "python",
   "nbconvert_exporter": "python",
   "pygments_lexer": "ipython3",
   "version": "3.8.5"
  }
 },
 "nbformat": 4,
 "nbformat_minor": 5
}
